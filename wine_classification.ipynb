{
 "cells": [
  {
   "cell_type": "code",
   "execution_count": 52,
   "id": "e85318b5",
   "metadata": {},
   "outputs": [],
   "source": [
    "import numpy as np\n",
    "import pandas as pd \n",
    "import matplotlib.pyplot as plt\n",
    "from sklearn.model_selection import train_test_split\n",
    "from sklearn.metrics import classification_report, confusion_matrix\n",
    "from sklearn import metrics\n",
    "from sklearn import tree\n",
    "import matplotlib.image as pltimg\n",
    "import statsmodels.api as smf\n",
    "from sklearn.preprocessing import LabelEncoder\n",
    "from sklearn.preprocessing import StandardScaler\n",
    "import statsmodels.api as sm\n",
    "plt.style.use('ggplot')\n",
    "import matplotlib\n",
    "import seaborn as sns"
   ]
  },
  {
   "cell_type": "code",
   "execution_count": 53,
   "id": "9bfc65e9",
   "metadata": {},
   "outputs": [
    {
     "data": {
      "text/html": [
       "<div>\n",
       "<style scoped>\n",
       "    .dataframe tbody tr th:only-of-type {\n",
       "        vertical-align: middle;\n",
       "    }\n",
       "\n",
       "    .dataframe tbody tr th {\n",
       "        vertical-align: top;\n",
       "    }\n",
       "\n",
       "    .dataframe thead th {\n",
       "        text-align: right;\n",
       "    }\n",
       "</style>\n",
       "<table border=\"1\" class=\"dataframe\">\n",
       "  <thead>\n",
       "    <tr style=\"text-align: right;\">\n",
       "      <th></th>\n",
       "      <th>Unnamed: 0</th>\n",
       "      <th>fixed.acidity</th>\n",
       "      <th>volatile.acidity</th>\n",
       "      <th>citric.acid</th>\n",
       "      <th>residual.sugar</th>\n",
       "      <th>chlorides</th>\n",
       "      <th>free.sulfur.dioxide</th>\n",
       "      <th>total.sulfur.dioxide</th>\n",
       "      <th>density</th>\n",
       "      <th>pH</th>\n",
       "      <th>sulphates</th>\n",
       "      <th>alcohol</th>\n",
       "      <th>quality</th>\n",
       "      <th>wine</th>\n",
       "    </tr>\n",
       "  </thead>\n",
       "  <tbody>\n",
       "    <tr>\n",
       "      <th>0</th>\n",
       "      <td>1</td>\n",
       "      <td>7.0</td>\n",
       "      <td>0.27</td>\n",
       "      <td>0.36</td>\n",
       "      <td>20.7</td>\n",
       "      <td>0.045</td>\n",
       "      <td>45.0</td>\n",
       "      <td>170.0</td>\n",
       "      <td>1.0010</td>\n",
       "      <td>3.00</td>\n",
       "      <td>0.45</td>\n",
       "      <td>8.8</td>\n",
       "      <td>6</td>\n",
       "      <td>white</td>\n",
       "    </tr>\n",
       "    <tr>\n",
       "      <th>1</th>\n",
       "      <td>2</td>\n",
       "      <td>6.3</td>\n",
       "      <td>0.30</td>\n",
       "      <td>0.34</td>\n",
       "      <td>1.6</td>\n",
       "      <td>0.049</td>\n",
       "      <td>14.0</td>\n",
       "      <td>132.0</td>\n",
       "      <td>0.9940</td>\n",
       "      <td>3.30</td>\n",
       "      <td>0.49</td>\n",
       "      <td>9.5</td>\n",
       "      <td>6</td>\n",
       "      <td>white</td>\n",
       "    </tr>\n",
       "    <tr>\n",
       "      <th>2</th>\n",
       "      <td>3</td>\n",
       "      <td>8.1</td>\n",
       "      <td>0.28</td>\n",
       "      <td>0.40</td>\n",
       "      <td>6.9</td>\n",
       "      <td>0.050</td>\n",
       "      <td>30.0</td>\n",
       "      <td>97.0</td>\n",
       "      <td>0.9951</td>\n",
       "      <td>3.26</td>\n",
       "      <td>0.44</td>\n",
       "      <td>10.1</td>\n",
       "      <td>6</td>\n",
       "      <td>white</td>\n",
       "    </tr>\n",
       "    <tr>\n",
       "      <th>3</th>\n",
       "      <td>4</td>\n",
       "      <td>7.2</td>\n",
       "      <td>0.23</td>\n",
       "      <td>0.32</td>\n",
       "      <td>8.5</td>\n",
       "      <td>0.058</td>\n",
       "      <td>47.0</td>\n",
       "      <td>186.0</td>\n",
       "      <td>0.9956</td>\n",
       "      <td>3.19</td>\n",
       "      <td>0.40</td>\n",
       "      <td>9.9</td>\n",
       "      <td>6</td>\n",
       "      <td>white</td>\n",
       "    </tr>\n",
       "    <tr>\n",
       "      <th>4</th>\n",
       "      <td>5</td>\n",
       "      <td>7.2</td>\n",
       "      <td>0.23</td>\n",
       "      <td>0.32</td>\n",
       "      <td>8.5</td>\n",
       "      <td>0.058</td>\n",
       "      <td>47.0</td>\n",
       "      <td>186.0</td>\n",
       "      <td>0.9956</td>\n",
       "      <td>3.19</td>\n",
       "      <td>0.40</td>\n",
       "      <td>9.9</td>\n",
       "      <td>6</td>\n",
       "      <td>white</td>\n",
       "    </tr>\n",
       "  </tbody>\n",
       "</table>\n",
       "</div>"
      ],
      "text/plain": [
       "   Unnamed: 0  fixed.acidity  volatile.acidity  citric.acid  residual.sugar  \\\n",
       "0           1            7.0              0.27         0.36            20.7   \n",
       "1           2            6.3              0.30         0.34             1.6   \n",
       "2           3            8.1              0.28         0.40             6.9   \n",
       "3           4            7.2              0.23         0.32             8.5   \n",
       "4           5            7.2              0.23         0.32             8.5   \n",
       "\n",
       "   chlorides  free.sulfur.dioxide  total.sulfur.dioxide  density    pH  \\\n",
       "0      0.045                 45.0                 170.0   1.0010  3.00   \n",
       "1      0.049                 14.0                 132.0   0.9940  3.30   \n",
       "2      0.050                 30.0                  97.0   0.9951  3.26   \n",
       "3      0.058                 47.0                 186.0   0.9956  3.19   \n",
       "4      0.058                 47.0                 186.0   0.9956  3.19   \n",
       "\n",
       "   sulphates  alcohol  quality   wine  \n",
       "0       0.45      8.8        6  white  \n",
       "1       0.49      9.5        6  white  \n",
       "2       0.44     10.1        6  white  \n",
       "3       0.40      9.9        6  white  \n",
       "4       0.40      9.9        6  white  "
      ]
     },
     "execution_count": 53,
     "metadata": {},
     "output_type": "execute_result"
    }
   ],
   "source": [
    "wine_data = pd.read_csv(\"wine.csv\")\n",
    "wine_data.head()"
   ]
  },
  {
   "cell_type": "code",
   "execution_count": 54,
   "id": "54e89b11",
   "metadata": {},
   "outputs": [
    {
     "data": {
      "text/plain": [
       "(6494, 14)"
      ]
     },
     "execution_count": 54,
     "metadata": {},
     "output_type": "execute_result"
    }
   ],
   "source": [
    "wine_data.shape"
   ]
  },
  {
   "cell_type": "code",
   "execution_count": 55,
   "id": "0c52f821",
   "metadata": {},
   "outputs": [
    {
     "name": "stdout",
     "output_type": "stream",
     "text": [
      "<class 'pandas.core.frame.DataFrame'>\n",
      "RangeIndex: 6494 entries, 0 to 6493\n",
      "Data columns (total 14 columns):\n",
      " #   Column                Non-Null Count  Dtype  \n",
      "---  ------                --------------  -----  \n",
      " 0   Unnamed: 0            6494 non-null   int64  \n",
      " 1   fixed.acidity         6494 non-null   float64\n",
      " 2   volatile.acidity      6494 non-null   float64\n",
      " 3   citric.acid           6494 non-null   float64\n",
      " 4   residual.sugar        6494 non-null   float64\n",
      " 5   chlorides             6494 non-null   float64\n",
      " 6   free.sulfur.dioxide   6494 non-null   float64\n",
      " 7   total.sulfur.dioxide  6494 non-null   float64\n",
      " 8   density               6494 non-null   float64\n",
      " 9   pH                    6494 non-null   float64\n",
      " 10  sulphates             6494 non-null   float64\n",
      " 11  alcohol               6494 non-null   float64\n",
      " 12  quality               6494 non-null   int64  \n",
      " 13  wine                  6494 non-null   object \n",
      "dtypes: float64(11), int64(2), object(1)\n",
      "memory usage: 710.4+ KB\n"
     ]
    }
   ],
   "source": [
    "wine_data.info()"
   ]
  },
  {
   "cell_type": "code",
   "execution_count": 56,
   "id": "73cd9c9b",
   "metadata": {},
   "outputs": [
    {
     "data": {
      "text/plain": [
       "Unnamed: 0              0\n",
       "fixed.acidity           0\n",
       "volatile.acidity        0\n",
       "citric.acid             0\n",
       "residual.sugar          0\n",
       "chlorides               0\n",
       "free.sulfur.dioxide     0\n",
       "total.sulfur.dioxide    0\n",
       "density                 0\n",
       "pH                      0\n",
       "sulphates               0\n",
       "alcohol                 0\n",
       "quality                 0\n",
       "wine                    0\n",
       "dtype: int64"
      ]
     },
     "execution_count": 56,
     "metadata": {},
     "output_type": "execute_result"
    }
   ],
   "source": [
    "wine_data.isnull().sum()"
   ]
  },
  {
   "cell_type": "code",
   "execution_count": 57,
   "id": "5e76fe72",
   "metadata": {},
   "outputs": [
    {
     "data": {
      "text/plain": [
       "0"
      ]
     },
     "execution_count": 57,
     "metadata": {},
     "output_type": "execute_result"
    }
   ],
   "source": [
    "#check duplicated\n",
    "wine_data.duplicated().sum()"
   ]
  },
  {
   "cell_type": "code",
   "execution_count": 58,
   "id": "2ca8be31",
   "metadata": {},
   "outputs": [
    {
     "data": {
      "text/plain": [
       "((4545, 12), (1949, 12), (4545,), (1949,))"
      ]
     },
     "execution_count": 58,
     "metadata": {},
     "output_type": "execute_result"
    }
   ],
   "source": [
    "from sklearn.model_selection import train_test_split\n",
    "from sklearn.preprocessing import StandardScaler, LabelEncoder\n",
    "\n",
    "# Step 1: Data Preparation\n",
    "\n",
    "# Encoding the 'wine' categorical variable\n",
    "label_encoder = LabelEncoder()\n",
    "wine_data['wine'] = label_encoder.fit_transform(wine_data['wine'])\n",
    "\n",
    "# Separating features and target variable\n",
    "X = wine_data.drop(['quality', 'Unnamed: 0'], axis=1)  # Dropping 'Unnamed: 0' as it's just an identifier\n",
    "y = wine_data['quality']\n",
    "\n",
    "# Splitting the dataset into training and testing sets\n",
    "X_train, X_test, y_train, y_test = train_test_split(X, y, test_size=0.3, random_state=42)\n",
    "\n",
    "# Normalizing the feature data\n",
    "scaler = StandardScaler()\n",
    "X_train_scaled = scaler.fit_transform(X_train)\n",
    "X_test_scaled = scaler.transform(X_test)\n",
    "\n",
    "X_train_scaled.shape, X_test_scaled.shape, y_train.shape, y_test.shape\n",
    "\n"
   ]
  },
  {
   "cell_type": "code",
   "execution_count": 59,
   "id": "ffd8e261",
   "metadata": {},
   "outputs": [
    {
     "data": {
      "text/plain": [
       "(1, 0.5896589658965896)"
      ]
     },
     "execution_count": 59,
     "metadata": {},
     "output_type": "execute_result"
    }
   ],
   "source": [
    "from sklearn.neighbors import KNeighborsClassifier\n",
    "from sklearn.model_selection import cross_val_score\n",
    "\n",
    "# Step 2: Model Building\n",
    "\n",
    "# Implementing KNN with an initial K value\n",
    "knn = KNeighborsClassifier(n_neighbors=5)\n",
    "knn.fit(X_train_scaled, y_train)\n",
    "\n",
    "# Step 3: Optimizing K\n",
    "# We will test K values from 1 to 20 and observe their performance\n",
    "k_values = range(1, 21)\n",
    "k_scores = []\n",
    "\n",
    "for k in k_values:\n",
    "    knn_temp = KNeighborsClassifier(n_neighbors=k)\n",
    "    scores = cross_val_score(knn_temp, X_train_scaled, y_train, cv=5, scoring='accuracy')\n",
    "    k_scores.append(scores.mean())\n",
    "\n",
    "# Identifying the optimal K value\n",
    "optimal_k = k_values[np.argmax(k_scores)]\n",
    "optimal_k, max(k_scores)"
   ]
  },
  {
   "cell_type": "code",
   "execution_count": 60,
   "id": "c72c4f80",
   "metadata": {},
   "outputs": [
    {
     "data": {
      "image/png": "[encoded data removed]",
      "text/plain": [
       "<Figure size 640x480 with 1 Axes>"
      ]
     },
     "metadata": {},
     "output_type": "display_data"
    }
   ],
   "source": [
    "#plotting the accuracy values against k values\n",
    "curve = pd.DataFrame(k_scores) #elbow curve \n",
    "\n",
    "# Plotting the curve\n",
    "curve.plot()\n",
    "\n",
    "# Adding x and y labels\n",
    "plt.xlabel('k-values')\n",
    "plt.ylabel('Accuracy')\n",
    "\n",
    "# Optionally, you can also add a title\n",
    "plt.title('Elbow Curve for KNN')\n",
    "\n",
    "# Show the plot\n",
    "plt.show()"
   ]
  },
  {
   "cell_type": "code",
   "execution_count": 61,
   "id": "034b262a",
   "metadata": {},
   "outputs": [
    {
     "name": "stdout",
     "output_type": "stream",
     "text": [
      "Decision Tree:\n",
      "Accuracy: 0.5915854284248332 \n",
      "Recall: 0.5915854284248332 \n",
      "Precision: 0.58938109816463\n",
      "\n"
     ]
    }
   ],
   "source": [
    "from sklearn.tree import DecisionTreeClassifier\n",
    "from sklearn.ensemble import RandomForestClassifier, GradientBoostingClassifier\n",
    "from sklearn.metrics import accuracy_score, recall_score, precision_score\n",
    "\n",
    "# Building the Decision Tree Model\n",
    "dt_model = DecisionTreeClassifier(random_state=42)\n",
    "dt_model.fit(X_train_scaled, y_train)\n",
    "\n",
    "# Predictions and Evaluation for Decision Tree\n",
    "dt_predictions = dt_model.predict(X_test_scaled)\n",
    "dt_accuracy = accuracy_score(y_test, dt_predictions)\n",
    "dt_recall = recall_score(y_test, dt_predictions, average='weighted')\n",
    "dt_precision = precision_score(y_test, dt_predictions, average='weighted')\n",
    "\n",
    "print(\"Decision Tree:\")\n",
    "print(\"Accuracy:\",dt_accuracy, \"\\nRecall:\",dt_recall, \"\\nPrecision:\", dt_precision)\n",
    "print()"
   ]
  },
  {
   "cell_type": "code",
   "execution_count": 62,
   "id": "e8078812",
   "metadata": {},
   "outputs": [
    {
     "name": "stdout",
     "output_type": "stream",
     "text": [
      "Random Forest:\n",
      "Accuracy: 0.6731657260133401 \n",
      "Recall: 0.6731657260133401 \n",
      "Precision: 0.6737866909810681\n"
     ]
    }
   ],
   "source": [
    "# Building the Random Forest Model\n",
    "rf_model = RandomForestClassifier(random_state=42)\n",
    "rf_model.fit(X_train_scaled, y_train)\n",
    "\n",
    "# Predictions and Evaluation for Random Forest\n",
    "rf_predictions = rf_model.predict(X_test_scaled)\n",
    "rf_accuracy = accuracy_score(y_test, rf_predictions)\n",
    "rf_recall = recall_score(y_test, rf_predictions, average='weighted')\n",
    "rf_precision = precision_score(y_test, rf_predictions, average='weighted', zero_division=0)\n",
    "\n",
    "print(\"Random Forest:\")\n",
    "print(\"Accuracy:\",rf_accuracy, \"\\nRecall:\",rf_recall, \"\\nPrecision:\", rf_precision)"
   ]
  },
  {
   "cell_type": "code",
   "execution_count": 63,
   "id": "2a7f4e95",
   "metadata": {},
   "outputs": [
    {
     "name": "stdout",
     "output_type": "stream",
     "text": [
      "Gradient Boosting:\n",
      "Accuracy: 0.5669574140584915 \n",
      "Recall: 0.5669574140584915 \n",
      "Precision: 0.5578200728955279\n"
     ]
    }
   ],
   "source": [
    "# Building the Gradient Boosting Model\n",
    "gb_model = GradientBoostingClassifier(random_state=42)\n",
    "gb_model.fit(X_train_scaled, y_train)\n",
    "\n",
    "# Predictions and Evaluation for Gradient Boosting\n",
    "gb_predictions = gb_model.predict(X_test_scaled)\n",
    "gb_accuracy = accuracy_score(y_test, gb_predictions)\n",
    "gb_recall = recall_score(y_test, gb_predictions, average='weighted')\n",
    "gb_precision = precision_score(y_test, gb_predictions, average='weighted')\n",
    "\n",
    "print(\"Gradient Boosting:\")\n",
    "print(\"Accuracy:\",gb_accuracy, \"\\nRecall:\",gb_recall, \"\\nPrecision:\", gb_precision)"
   ]
  },
  {
   "cell_type": "code",
   "execution_count": 64,
   "id": "7fdaf9d9",
   "metadata": {},
   "outputs": [
    {
     "name": "stdout",
     "output_type": "stream",
     "text": [
      "Neural Network with 'adam' solver:\n",
      "Accuracy: 0.5613134940995382 \n",
      "Recall: 0.5613134940995382 \n",
      "Precision: 0.5487270592424407\n"
     ]
    }
   ],
   "source": [
    "from sklearn.neural_network import MLPClassifier\n",
    "\n",
    "# Building Neural Network with 'adam' solver\n",
    "nn_adam = MLPClassifier(solver='adam', random_state=42, max_iter=2000)\n",
    "nn_adam.fit(X_train_scaled, y_train)\n",
    "\n",
    "# Predictions and Evaluation for Neural Network with 'adam' solver\n",
    "nn_adam_predictions = nn_adam.predict(X_test_scaled)\n",
    "nn_adam_accuracy = accuracy_score(y_test, nn_adam_predictions)\n",
    "nn_adam_recall = recall_score(y_test, nn_adam_predictions, average='weighted', zero_division=0)\n",
    "nn_adam_precision = precision_score(y_test, nn_adam_predictions, average='weighted')\n",
    "\n",
    "print(\"Neural Network with 'adam' solver:\")\n",
    "print(\"Accuracy:\",nn_adam_accuracy, \"\\nRecall:\",nn_adam_recall, \"\\nPrecision:\", nn_adam_precision)"
   ]
  },
  {
   "cell_type": "code",
   "execution_count": 65,
   "id": "de9be145",
   "metadata": {},
   "outputs": [
    {
     "name": "stdout",
     "output_type": "stream",
     "text": [
      "Neural Network with 'sgd' solver:\n",
      "Accuracy: 0.5649050795279631 \n",
      "Recall: 0.5649050795279631 \n",
      "Precision: 0.5388605513792124\n"
     ]
    }
   ],
   "source": [
    "from sklearn.model_selection import GridSearchCV\n",
    "from sklearn.neural_network import MLPClassifier\n",
    "from sklearn.metrics import accuracy_score\n",
    "\n",
    "# Building Neural Network with 'sgd' solver\n",
    "nn_sgd = MLPClassifier(solver='sgd', random_state=42, max_iter=2000)\n",
    "nn_sgd.fit(X_train_scaled, y_train)\n",
    "\n",
    "# Predictions and Evaluation for Neural Network with 'sgd' solver\n",
    "nn_sgd_predictions = nn_sgd.predict(X_test_scaled)\n",
    "nn_sgd_accuracy = accuracy_score(y_test, nn_sgd_predictions)\n",
    "nn_sgd_recall = recall_score(y_test, nn_sgd_predictions, average='weighted')\n",
    "nn_sgd_precision = precision_score(y_test, nn_sgd_predictions, average='weighted')\n",
    "\n",
    "print(\"Neural Network with 'sgd' solver:\")\n",
    "print(\"Accuracy:\",nn_sgd_accuracy, \"\\nRecall:\",nn_sgd_recall, \"\\nPrecision:\", nn_sgd_precision)"
   ]
  },
  {
   "cell_type": "code",
   "execution_count": 69,
   "id": "d0851024",
   "metadata": {},
   "outputs": [],
   "source": [
    "# Initialize the neural network model\n",
    "nn_1 = MLPClassifier(hidden_layer_sizes=(50, 50), max_iter = 10000, random_state=42, early_stopping=True)\n",
    "\n",
    "# Define the parameter grid\n",
    "parameter_space = {\n",
    "    'hidden_layer_sizes': [(50,), (100,), (100, 50), (200,)],\n",
    "    'activation': ['tanh', 'relu'],\n",
    "    'solver': ['sgd', 'adam'],\n",
    "    'alpha': [0.0001, 0.05],\n",
    "    'learning_rate': ['constant', 'adaptive'],\n",
    "}\n",
    "\n",
    "# Initialize GridSearchCV\n",
    "clf = GridSearchCV(nn_1, parameter_space, n_jobs=-1, cv=3)\n",
    "\n",
    "# Run Grid Search\n",
    "clf.fit(X_train_scaled, y_train)\n",
    "\n",
    "# Best parameters and accuracy\n",
    "best_params = clf.best_params_\n",
    "best_score = clf.best_score_\n",
    "\n",
    "# Evaluate on Test Data\n",
    "y_pred_nn_optimized = clf.predict(X_test_scaled)\n",
    "optimized_accuracy = accuracy_score(y_test, y_pred_nn_optimized)\n"
   ]
  },
  {
   "cell_type": "code",
   "execution_count": 71,
   "id": "bb79ce60",
   "metadata": {},
   "outputs": [
    {
     "name": "stdout",
     "output_type": "stream",
     "text": [
      "Optimized neural network model:\n",
      "Accuracy: 0.5695228322216521 \n",
      "Recall: 0.5695228322216521 \n",
      "Precision: 0.5450161624516497\n"
     ]
    }
   ],
   "source": [
    "optimized_nn_recall = recall_score(y_test, y_pred_nn_optimized, average='weighted')\n",
    "optimized_nn_precision = precision_score(y_test, y_pred_nn_optimized, average='weighted', zero_division=0)\n",
    "print('Optimized neural network model:')\n",
    "print(\"Accuracy:\",optimized_accuracy, \"\\nRecall:\",optimized_nn_recall, \"\\nPrecision:\", optimized_nn_precision)"
   ]
  },
  {
   "cell_type": "code",
   "execution_count": 72,
   "id": "c2ee4d65",
   "metadata": {},
   "outputs": [
    {
     "data": {
      "image/png": "[encoded data removed]",
      "text/plain": [
       "<Figure size 640x480 with 1 Axes>"
      ]
     },
     "metadata": {},
     "output_type": "display_data"
    }
   ],
   "source": [
    "import matplotlib.pyplot as plt\n",
    "\n",
    "# Model names\n",
    "models = ['Decision Tree', 'Random Forest', 'Gradient Boosting', 'Neural Network (adam)', 'Neural Network (sgd)', 'Optimized neural network']\n",
    "\n",
    "# Metrics for each model\n",
    "accuracy = [dt_accuracy, rf_accuracy, gb_accuracy, nn_adam_accuracy, nn_sgd_accuracy, optimized_accuracy]\n",
    "recall = [dt_recall, rf_recall, gb_recall, nn_adam_recall, nn_sgd_recall, optimized_nn_recall]\n",
    "precision = [dt_precision, rf_precision, gb_precision, nn_adam_precision, nn_sgd_precision, optimized_nn_precision]\n",
    "\n",
    "# Set the width of the bars\n",
    "bar_width = 0.2\n",
    "\n",
    "# Set the positions of the bars on the x-axis\n",
    "r1 = range(len(models))\n",
    "r2 = [x + bar_width for x in r1]\n",
    "r3 = [x + bar_width for x in r2]\n",
    "\n",
    "# Create the bar plot\n",
    "plt.bar(r1, accuracy, color='black', width=bar_width, edgecolor='grey', label='Accuracy')\n",
    "plt.bar(r2, recall, color='lightblue', width=bar_width, edgecolor='grey', label='Recall')\n",
    "plt.bar(r3, precision, color='pink', width=bar_width, edgecolor='grey', label='Precision')\n",
    "\n",
    "# Add labels, title, and legend\n",
    "plt.xlabel('Models')\n",
    "plt.ylabel('Scores')\n",
    "plt.xticks([r + bar_width for r in range(len(models))], models, rotation=45)  # Rotate labels by 45 degrees\n",
    "plt.title('Model Comparison')\n",
    "plt.legend()\n",
    "\n",
    "# Show the plot\n",
    "plt.tight_layout()\n",
    "plt.show()\n"
   ]
  }
 ],
 "metadata": {
  "kernelspec": {
   "display_name": "Python 3 (ipykernel)",
   "language": "python",
   "name": "python3"
  },
  "language_info": {
   "codemirror_mode": {
    "name": "ipython",
    "version": 3
   },
   "file_extension": ".py",
   "mimetype": "text/x-python",
   "name": "python",
   "nbconvert_exporter": "python",
   "pygments_lexer": "ipython3",
   "version": "3.10.9"
  }
 },
 "nbformat": 4,
 "nbformat_minor": 5
}
